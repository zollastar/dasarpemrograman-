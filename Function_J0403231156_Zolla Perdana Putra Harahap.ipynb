{
 "cells": [
  {
   "cell_type": "markdown",
   "metadata": {},
   "source": [
    "Function"
   ]
  },
  {
   "cell_type": "code",
   "execution_count": null,
   "metadata": {},
   "outputs": [],
   "source": [
    "# define function\n",
    "def fun():\n",
    "    print(\"My fun function\")\n",
    "# call function\n",
    "fun()"
   ]
  },
  {
   "cell_type": "markdown",
   "metadata": {},
   "source": [
    "Parameters & Arguments\n"
   ]
  },
  {
   "cell_type": "code",
   "execution_count": null,
   "metadata": {},
   "outputs": [],
   "source": [
    "# Here a,b are the parameters\n",
    "def sum(a,b):\n",
    " print(a+b)\n",
    " \n",
    "# Here the values 1,2 are arguments\n",
    "sum(1,2)"
   ]
  },
  {
   "cell_type": "markdown",
   "metadata": {},
   "source": [
    "Arguments - Positional\n"
   ]
  },
  {
   "cell_type": "code",
   "execution_count": null,
   "metadata": {},
   "outputs": [],
   "source": [
    "def greet(name, greeting):\n",
    " print(f\"{greeting}, {name}!\")\n",
    "greet(\"Alice\", \"Hello\") # \"Hello, Alice!\""
   ]
  },
  {
   "cell_type": "markdown",
   "metadata": {},
   "source": [
    "Arguments - Keyword\n"
   ]
  },
  {
   "cell_type": "code",
   "execution_count": null,
   "metadata": {},
   "outputs": [],
   "source": [
    "def greet(name, greeting):\n",
    " print(f\"{greeting}, {name}!\")\n",
    "greet(greeting=\"Hi\", name=\"Bob\") # \"Hi, Bob!\"\n"
   ]
  },
  {
   "cell_type": "markdown",
   "metadata": {},
   "source": [
    "Arguments - Default\n"
   ]
  },
  {
   "cell_type": "code",
   "execution_count": null,
   "metadata": {},
   "outputs": [],
   "source": [
    "def greet(name, greeting=\"Hello\"):\n",
    " print(f\"{greeting}, {name}!\")\n",
    "greet(\"Eve\") # \"Hello, Eve!\""
   ]
  },
  {
   "cell_type": "markdown",
   "metadata": {},
   "source": [
    "Arguments - Arbitrary - *args"
   ]
  },
  {
   "cell_type": "code",
   "execution_count": null,
   "metadata": {},
   "outputs": [],
   "source": [
    "def print_args(*args):\n",
    " for arg in args:\n",
    "     print(arg)\n",
    "print_args(1, \"apple\", True) # 1\\n\"apple\"\\nTrue\n"
   ]
  },
  {
   "cell_type": "markdown",
   "metadata": {},
   "source": [
    "Arguments - Arbitrary - *kwargs"
   ]
  },
  {
   "cell_type": "code",
   "execution_count": null,
   "metadata": {},
   "outputs": [],
   "source": [
    "def print_kwargs(**kwargs):\n",
    " for key, value in kwargs.items():\n",
    "     print(f\"{key}: {value}\")\n",
    "print_kwargs(name=\"Alice\", age=30) # \"name: Alice\"\\n\"age: 30\"\n"
   ]
  },
  {
   "cell_type": "markdown",
   "metadata": {},
   "source": [
    "Arguments - Passing Lists/Dictionaries/etc."
   ]
  },
  {
   "cell_type": "code",
   "execution_count": null,
   "metadata": {},
   "outputs": [],
   "source": [
    "def print_list(numbers):\n",
    " for num in numbers:\n",
    "     print(num)\n",
    "print_list([1, 2, 3, 4]) # 1\\n2\\n3\\n4\n",
    "def print_dict(my_dict):\n",
    " for key, value in my_dict.items():\n",
    "     print(f\"{key}: {value}\")\n",
    "print_dict({\"name\": \"Bob\", \"age\": 25}) # Output: \"name: Bob\"\\n\"age: 25"
   ]
  },
  {
   "cell_type": "markdown",
   "metadata": {},
   "source": [
    "Different argument combinations"
   ]
  },
  {
   "cell_type": "code",
   "execution_count": null,
   "metadata": {},
   "outputs": [],
   "source": [
    "def f(a, *b, c=6, **d): # compare it with def f(a, b=6, *c, **d)\n",
    " print(f\"a: {a}\")\n",
    " print(f\"b: {b}\")\n",
    " print(f\"c: {c}\")\n",
    " print(f\"d: {d}\") \n",
    "f(1, 2, 3, x=4, y=5) # Default used\n",
    "f(1, 2, 3, c=7, x=4, y=5) # Override default"
   ]
  },
  {
   "cell_type": "markdown",
   "metadata": {},
   "source": [
    "Return Statements - Examples"
   ]
  },
  {
   "cell_type": "code",
   "execution_count": null,
   "metadata": {},
   "outputs": [],
   "source": [
    "def add_numbers(a, b):\n",
    " \"\"\"This function adds two numbers and \n",
    "returns the result.\"\"\"\n",
    " result = a + b\n",
    " return result\n",
    "# Call the function with a return value\n",
    "sum_result = add_numbers(5, 3)\n",
    "print(f\"The sum is: {sum_result}\")"
   ]
  },
  {
   "cell_type": "code",
   "execution_count": null,
   "metadata": {},
   "outputs": [],
   "source": [
    "def greet(name):\n",
    " \"\"\"This function greets the person passed in as a \n",
    "parameter.\"\"\"\n",
    " print(f\"Hello, {name}!\")\n",
    "# Call the function without a return value\n",
    "greet(\"Alice\")\n"
   ]
  },
  {
   "cell_type": "markdown",
   "metadata": {},
   "source": [
    "It is executed at runtime"
   ]
  },
  {
   "cell_type": "code",
   "execution_count": null,
   "metadata": {},
   "outputs": [],
   "source": [
    "if 'a' == 'a':\n",
    " def greet():\n",
    "     return \"Hello, World!\"\n",
    "else:\n",
    " def greet():\n",
    "     return \"Hi there!\""
   ]
  },
  {
   "cell_type": "code",
   "execution_count": null,
   "metadata": {},
   "outputs": [],
   "source": [
    "def say_hello():\n",
    " print(\"Hello, World!\")\n",
    "greeting = say_hello # Assigning the function to a different name\n",
    "greeting() # Calls the function\n",
    "def say_hello():\n",
    " print(\"Hello, Python!\")\n",
    "say_hello() # Calls the updated function\n"
   ]
  },
  {
   "cell_type": "markdown",
   "metadata": {},
   "source": [
    "It is executed at runtime"
   ]
  },
  {
   "cell_type": "code",
   "execution_count": null,
   "metadata": {},
   "outputs": [],
   "source": [
    "def divide_by_zero(a):\n",
    " return a * 2 / ( a - a ) # this is a bug\n",
    "print(\"After function creation\")\n",
    "# it’s not error until executed:\n",
    "result = divide_by_zero(5) # comment this and see the differences\n",
    "print(\"After function is called/executed\")\n"
   ]
  },
  {
   "cell_type": "markdown",
   "metadata": {},
   "source": [
    "It is first class object"
   ]
  },
  {
   "cell_type": "code",
   "execution_count": null,
   "metadata": {},
   "outputs": [],
   "source": [
    "def greet(name):\n",
    " return f\"Hello, {name}!\"\n",
    "# Assign the function to a variable\n",
    "my_function = greet\n",
    "# Call the function using the variable\n",
    "result = my_function(\"Alice\")\n",
    "print(result) # Output: Hello, Alice!   "
   ]
  },
  {
   "cell_type": "markdown",
   "metadata": {},
   "source": [
    "It is first class object - another example"
   ]
  },
  {
   "cell_type": "code",
   "execution_count": null,
   "metadata": {},
   "outputs": [],
   "source": [
    "def apply(func, x):\n",
    " return func(x)\n",
    "def square(x):\n",
    " return x * x\n",
    "result = apply(square, 5)\n",
    "print(result) # Output: 25\n"
   ]
  },
  {
   "cell_type": "markdown",
   "metadata": {},
   "source": [
    "It is first class object - another examples"
   ]
  },
  {
   "cell_type": "code",
   "execution_count": null,
   "metadata": {},
   "outputs": [],
   "source": [
    "def get_multiplier(factor):\n",
    " def multiplier(x):\n",
    "     return x * factor\n",
    " return multiplier\n",
    "double = get_multiplier(2)\n",
    "triple = get_multiplier(3)\n",
    "print(double(5)) # Output: 10\n",
    "print(triple(5)) # Output: 15\n"
   ]
  },
  {
   "cell_type": "markdown",
   "metadata": {},
   "source": [
    "\n",
    "Scope - Examples"
   ]
  },
  {
   "cell_type": "code",
   "execution_count": null,
   "metadata": {},
   "outputs": [],
   "source": [
    "def my_function():\n",
    " x = 10 # x is in the local scope\n",
    " print(x)\n",
    "def outer_function():\n",
    " y = 20 # y is in the enclosing scope\n",
    " def inner_function():\n",
    "     print(y) # inner_function can access y from the enclosing scope\n",
    "z = 30 # z is in the global scope\n",
    "def another_function():\n",
    " print(z) # another_function can access z from the global scope\n",
    "print(len(\"Hello, World!\")) # len is a built-in function\n"
   ]
  },
  {
   "cell_type": "markdown",
   "metadata": {},
   "source": [
    "Scope - Global keyword\n"
   ]
  },
  {
   "cell_type": "code",
   "execution_count": null,
   "metadata": {},
   "outputs": [],
   "source": [
    "global_var = 10 # Global variable\n",
    "def modify_global():\n",
    " global global_var # Use the global keyword to MODIFY the global variable\n",
    " global_var = 20\n",
    "modify_global()\n",
    "print(global_var) # This will print the modified global variable, which is 20\n"
   ]
  },
  {
   "cell_type": "markdown",
   "metadata": {},
   "source": [
    "Pass by Object Reference\n"
   ]
  },
  {
   "cell_type": "code",
   "execution_count": null,
   "metadata": {},
   "outputs": [],
   "source": [
    "def modify_list(my_list):\n",
    " my_list.append(4) # Modifying the list inside the function\n",
    "my_list = [1, 2, 3]\n",
    "modify_list(my_list)\n",
    "print(my_list) # Output: [1, 2, 3, 4]"
   ]
  },
  {
   "cell_type": "code",
   "execution_count": null,
   "metadata": {},
   "outputs": [],
   "source": [
    "def reassign_list(my_list):\n",
    " my_list = [4, 5, 6] # Reassigning the list to a new object\n",
    "my_list = [1, 2, 3]\n",
    "reassign_list(my_list)\n",
    "print(my_list) # Output: [1, 2, 3]\n"
   ]
  },
  {
   "cell_type": "markdown",
   "metadata": {},
   "source": [
    "Pass by Object Reference\n"
   ]
  },
  {
   "cell_type": "code",
   "execution_count": null,
   "metadata": {},
   "outputs": [],
   "source": [
    "def modify_integer(x):\n",
    " x += 1 # Modifying the integer inside the function\n",
    "my_integer = 5\n",
    "modify_integer(my_integer)\n",
    "print(my_integer) # Output: 5"
   ]
  },
  {
   "cell_type": "markdown",
   "metadata": {},
   "source": [
    "Function Overloading\n"
   ]
  },
  {
   "cell_type": "code",
   "execution_count": null,
   "metadata": {},
   "outputs": [],
   "source": [
    "def product(a, b):\n",
    " print(a * b)\n",
    "def product(a, b, c):\n",
    " print(a * b * c)\n",
    "# product(4, 5) # Uncommenting this shows an error\n",
    " \n",
    "product(4, 5, 5) # This line will call the last function\n",
    "# Try using *args to solve that problem\n"
   ]
  },
  {
   "cell_type": "markdown",
   "metadata": {},
   "source": [
    "Function Recursion\n"
   ]
  },
  {
   "cell_type": "code",
   "execution_count": null,
   "metadata": {},
   "outputs": [],
   "source": [
    "def factorial(n):\n",
    " if n == 0:\n",
    "     return 1\n",
    " else:\n",
    "     return n * factorial(n - 1)\n",
    "result = factorial(5)\n",
    "print(result) # Output: 120\n"
   ]
  },
  {
   "cell_type": "markdown",
   "metadata": {},
   "source": [
    "Error Handling - Examples"
   ]
  },
  {
   "cell_type": "code",
   "execution_count": null,
   "metadata": {},
   "outputs": [],
   "source": [
    "def divide(x, y):\n",
    "    try:\n",
    "        result = x / y\n",
    "    except ZeroDivisionError:\n",
    "        print(\"Error: Division by zero\")\n",
    "        return None\n",
    "    except TypeError:\n",
    "        print(\"Error: Invalid data types\")\n",
    "        return None\n",
    "    except Exception as e:\n",
    "        print(f\"An unexpected error occurred: {e}\")\n",
    "        return None\n",
    "    else:\n",
    "        return result\n",
    "    finally:\n",
    "        print(\"Division operation complete\")\n",
    "# Example usages\n",
    "print(divide(10, 2)) # Output: 5.0\n",
    "print(divide(10, 0)) # Output: Error: Division by zero\\nDivision operation complete\\nNone\n",
    "print(divide(\"10\", 0)) # Output: Error: Invalid data types\\nDivision operation complete\\nNone\n"
   ]
  },
  {
   "cell_type": "markdown",
   "metadata": {},
   "source": [
    "Docstrings - Examples"
   ]
  },
  {
   "cell_type": "code",
   "execution_count": 1,
   "metadata": {},
   "outputs": [
    {
     "name": "stdout",
     "output_type": "stream",
     "text": [
      "Help on function add in module __main__:\n",
      "\n",
      "add(a, b)\n",
      "    This function adds two numbers together.\n",
      "    \n",
      "    Args:\n",
      "    a (int): The first number to be added.\n",
      "    b (int): The second number to be added.\n",
      "    \n",
      "    Returns:\n",
      "    int: The sum of the two input numbers.\n",
      "    \n",
      "    Example:\n",
      "    >>> add(3, 4)\n",
      "    7\n",
      "\n"
     ]
    }
   ],
   "source": [
    "def add(a, b):\n",
    " \"\"\"\"\"\n",
    " This function adds two numbers together.\n",
    " \n",
    " Args:\n",
    " a (int): The first number to be added.\n",
    " b (int): The second number to be added.\n",
    " \n",
    " Returns:\n",
    " int: The sum of the two input numbers.\n",
    " \n",
    " Example:\n",
    " >>> add(3, 4)\n",
    " 7\n",
    " \"\"\"\n",
    " return a + b\n",
    "help(add) # Displays the docstring\n"
   ]
  }
 ],
 "metadata": {
  "kernelspec": {
   "display_name": "Python 3",
   "language": "python",
   "name": "python3"
  },
  "language_info": {
   "codemirror_mode": {
    "name": "ipython",
    "version": 3
   },
   "file_extension": ".py",
   "mimetype": "text/x-python",
   "name": "python",
   "nbconvert_exporter": "python",
   "pygments_lexer": "ipython3",
   "version": "3.11.5"
  },
  "orig_nbformat": 4
 },
 "nbformat": 4,
 "nbformat_minor": 2
}
