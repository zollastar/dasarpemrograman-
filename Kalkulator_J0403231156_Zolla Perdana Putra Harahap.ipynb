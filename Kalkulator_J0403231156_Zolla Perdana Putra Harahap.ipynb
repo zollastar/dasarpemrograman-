# Nama  : Zolla Perdana Putra Harahap
#NIM    : J0403231156
#Kelas  : B-1
#Prodi  : Teknologi Rekayasa Perangkat Lunak


def kalkulator():
    """
    Fungsi ini bertindak seperti kalkulator sederhana yang meminta input dari pengguna
    untuk operator dan angka-angka yang akan dioperasikan.

    Input:
        - Meminta pengguna untuk memasukkan operator aritmatika ('+', '-', '*', '/') yang ingin digunakan.
        - Meminta pengguna untuk memasukkan angka-angka yang akan dioperasikan (jumlah argumen dapat bervariasi).

    Output:
        - Menampilkan hasil dari operasi aritmatika yang dijalankan.

    Raises:
        - ValueError: Jika operator yang tidak valid diberikan.

    Contoh penggunaan:
        >>> kalkulator()
        Masukkan operator aritmatika (+, -, *, /): +
        Berikan angka yang akan dioperasikan, pisahkan dengan spasi: 5 3
        Hasil: 8.0
    """
    try:
        operator = input("Masukkan operator aritmatika (+, -, *, /): ")
        if operator not in ('+', '-', '*', '/'):
            raise ValueError("Operator yang dimasukkan tidak valid.")

        angka = input("Berikan angka yang akan dioperasikan, pisahkan dengan spasi: ")
        angka = [float(x) for x in angka.split()]

        if not angka:
            raise ValueError("Tidak ada angka yang diberikan.")

        if operator == '+':
            hasil = sum(angka)
        elif operator == '-':
            hasil = angka[0] - sum(angka[1:])
        elif operator == '*':
            hasil = 1
            for num in angka:
                hasil *= num
        elif operator == '/':
            if 0 in angka[1:]:
                raise ValueError("Pembagian oleh nol tidak diperbolehkan.")
            hasil = angka[0]
            for num in angka[1:]:
                hasil /= num

        print(f"Hasil: {hasil}")
    except ValueError as e:
        print(f"Terjadi kesalahan: {e}")

# Contoh penggunaan
if __name__ == "__main__":
    kalkulator()