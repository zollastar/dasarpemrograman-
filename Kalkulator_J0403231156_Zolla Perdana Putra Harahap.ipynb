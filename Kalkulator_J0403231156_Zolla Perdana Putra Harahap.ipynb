{
 "cells": [
  {
   "cell_type": "markdown",
   "metadata": {},
   "source": [
    "Nama : Zolla Perdana Putra Harahap\n",
    "NIM : J0403231156\n",
    "\n",
    "Kalkulator"
   ]
  },
  {
   "cell_type": "code",
   "execution_count": 17,
   "metadata": {},
   "outputs": [
    {
     "name": "stdout",
     "output_type": "stream",
     "text": [
      "Hasil: 5.0\n"
     ]
    }
   ],
   "source": [
    "def kalkulator():\n",
    "    try:\n",
    "        operator = input(\"Masukkan operator aritmatika (+, -, *, /): \")\n",
    "        if operator not in ('+', '-', '*', '/'):\n",
    "            raise ValueError(\"Operator yang dimasukkan tidak valid.\")\n",
    "\n",
    "        angka = input(\"Berikan angka yang akan dioperasikan, pisahkan dengan spasi: \")\n",
    "        angka = [float(x) for x in angka.split()]\n",
    "\n",
    "        if not angka:\n",
    "            raise ValueError(\"Tidak ada angka yang diberikan.\")\n",
    "\n",
    "        if operator == '+':\n",
    "            hasil = sum(angka)\n",
    "        elif operator == '-':\n",
    "            hasil = angka[0] - sum(angka[1:])\n",
    "        elif operator == '*':\n",
    "            hasil = 1\n",
    "            for num in angka:\n",
    "                hasil *= num\n",
    "        elif operator == '/':\n",
    "            if 0 in angka[1:]:\n",
    "                raise ValueError(\"Pembagian oleh nol tidak diperbolehkan.\")\n",
    "            hasil = angka[0]\n",
    "            for num in angka[1:]:\n",
    "                hasil /= num\n",
    "\n",
    "        print(f\"Hasil: {hasil}\")\n",
    "    except ValueError as e:\n",
    "        print(f\"Terjadi kesalahan: {e}\")\n",
    "\n",
    "if __name__ == \"__main__\":\n",
    "    kalkulator()\n"
   ]
  }
 ],
 "metadata": {
  "kernelspec": {
   "display_name": "Python 3",
   "language": "python",
   "name": "python3"
  },
  "language_info": {
   "codemirror_mode": {
    "name": "ipython",
    "version": 3
   },
   "file_extension": ".py",
   "mimetype": "text/x-python",
   "name": "python",
   "nbconvert_exporter": "python",
   "pygments_lexer": "ipython3",
   "version": "3.11.6"
  }
 },
 "nbformat": 4,
 "nbformat_minor": 2
}
